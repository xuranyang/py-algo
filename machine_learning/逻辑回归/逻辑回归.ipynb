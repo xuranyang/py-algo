{
 "cells": [
  {
   "cell_type": "code",
   "execution_count": 54,
   "metadata": {},
   "source": [
    "from math import exp\n",
    "import numpy as np\n",
    "import pandas as pd\n",
    "import matplotlib.pyplot as plt\n",
    "%matplotlib inline\n",
    "\n",
    "from sklearn.datasets import load_iris\n",
    "from sklearn.model_selection import train_test_split"
   ],
   "outputs": []
  },
  {
   "cell_type": "code",
   "execution_count": 55,
   "metadata": {},
   "source": [
    "iris = load_iris()\n",
    "df = pd.DataFrame(iris.data, columns=iris.feature_names)\n",
    "df['label'] = iris.target\n",
    "df.columns = ['sepal length', 'sepal width', 'petal length', 'petal width', 'label']\n",
    "data = np.array(df.iloc[:100, [0,1,-1]])"
   ],
   "outputs": []
  },
  {
   "cell_type": "code",
   "execution_count": 59,
   "metadata": {},
   "source": [
    "X=data[:,:2]\n",
    "y=data[:,-1]"
   ],
   "outputs": []
  },
  {
   "cell_type": "code",
   "execution_count": 60,
   "metadata": {},
   "source": [
    "X_train, X_test, y_train, y_test = train_test_split(X, y, test_size=0.3)"
   ],
   "outputs": []
  },
  {
   "cell_type": "code",
   "execution_count": 81,
   "metadata": {},
   "source": [
    "def sigmoid(x):\n",
    "    return 1 / (1 + exp(-x))"
   ],
   "outputs": []
  },
  {
   "cell_type": "code",
   "execution_count": 82,
   "metadata": {},
   "source": [
    "def z(x,w):\n",
    "    z=0\n",
    "    for i in range(len(x)):\n",
    "        z+=w[i]*x[i]\n",
    "    return z"
   ],
   "outputs": []
  },
  {
   "cell_type": "markdown",
   "metadata": {},
   "source": [
    "### $z={1 \\over {1+e^{-w^Tx}}}$"
   ]
  },
  {
   "cell_type": "markdown",
   "metadata": {},
   "source": [
    "$Cost(h_\\theta(x),y)=-y \\times log(h_\\theta(x))-(1-y) \\times log(1-h_\\theta(x))$\n",
    "\n",
    "$J(\\theta)=-{1 \\over m} \\sum_{i=1}^m[y^{(i)}log(h_\\theta(x^{(i)}))+(1-y^{(i)})log(1-h_\\theta(x^{(i)}))]$\n",
    "\n",
    "${\\partial \\over {\\partial \\theta_j}}J(\\theta)={1\\over m}{\\sum}_{i=1}^m(h_\\theta(x^{(i)})-y^{(i)})·x_j^{(i)}$\n",
    "\n",
    "$\\theta_j:=\\theta_j-\\alpha{\\partial \\over {\\partial \\theta_j}}J(\\theta)$\n",
    "\n",
    "$\\theta_j:=\\theta_j-\\alpha{1\\over m}{\\sum}_{i=1}^m(h_\\theta(x^{(i)})-y^{(i)})·x_j^{(i)}$"
   ]
  },
  {
   "cell_type": "code",
   "execution_count": 159,
   "metadata": {},
   "source": [
    "# 初始化所有参数w都为1\n",
    "w_init=[1,1]\n",
    "# 初始化损失函数的值为0\n",
    "cost=[0,0]\n",
    "#学习率\n",
    "rating=0.1\n",
    "# 迭代次数\n",
    "iters=1000\n",
    "# 迭代多次进行梯度下降\n",
    "for k in range(iters):\n",
    "    # 遍历每一个测试样本的x\n",
    "    for i in range(len(X_train)):\n",
    "        # 遍历每一个测试样本x的第j个参数对应的x 计算出第j个参数的损失\n",
    "        for j in range(len(X_train[i])):\n",
    "            cost[j]+=(sigmoid(z(x=X_train[i],w=w_init))-y_train[i])*X_train[i][j]\n",
    "        cost[j]=cost[j]/len(X_train)*rating\n",
    "        w_init[j]-=cost[j]\n",
    "w_init"
   ],
   "outputs": []
  },
  {
   "cell_type": "markdown",
   "metadata": {},
   "source": [
    "$w_0=1$ $w_1=-1.77$\n",
    "\n",
    "$w_0*x_0+w_1x_1=0$\n",
    "\n",
    "$x_1={{-w_0*x_0}\\over{w_1}}$"
   ]
  },
  {
   "cell_type": "code",
   "execution_count": 160,
   "metadata": {},
   "source": [
    "x_points = np.arange(4, 8)\n",
    "y_ = -(w_init[0]*x_points)/w_init[1]\n",
    "plt.plot(x_points, y_)\n",
    "\n",
    "plt.scatter(X[:50,0],X[:50,1])\n",
    "plt.scatter(X[50:,0],X[50:,1])"
   ],
   "outputs": []
  },
  {
   "cell_type": "code",
   "execution_count": null,
   "metadata": {},
   "source": [],
   "outputs": []
  }
 ],
 "metadata": {
  "kernelspec": {
   "display_name": "Python 3",
   "language": "python",
   "name": "python3"
  },
  "language_info": {
   "codemirror_mode": {
    "name": "ipython",
    "version": 3
   },
   "file_extension": ".py",
   "mimetype": "text/x-python",
   "name": "python",
   "nbconvert_exporter": "python",
   "pygments_lexer": "ipython3",
   "version": "3.7.4"
  }
 },
 "nbformat": 4,
 "nbformat_minor": 2
}
