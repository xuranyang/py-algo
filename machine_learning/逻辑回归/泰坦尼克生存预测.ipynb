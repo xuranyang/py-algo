{
 "cells": [
  {
   "cell_type": "code",
   "id": "initial_id",
   "metadata": {
    "collapsed": true,
    "ExecuteTime": {
     "end_time": "2024-07-07T04:25:15.182069Z",
     "start_time": "2024-07-07T04:25:12.349994Z"
    }
   },
   "source": "import pandas as pd",
   "execution_count": 1,
   "outputs": []
  },
  {
   "metadata": {
    "ExecuteTime": {
     "end_time": "2024-07-07T07:08:26.989949Z",
     "start_time": "2024-07-07T07:08:26.963454Z"
    }
   },
   "cell_type": "code",
   "source": [
    "df_train: pd.DataFrame = pd.read_csv('data/titanic/train.csv')\n",
    "df_test: pd.DataFrame = pd.read_csv('data/titanic/test.csv')\n",
    "# df_all: pd.DataFrame = pd.concat([df_train, df_test], ignore_index=True, sort=True)"
   ],
   "id": "599c677837770519",
   "execution_count": 54,
   "outputs": []
  },
  {
   "metadata": {
    "ExecuteTime": {
     "end_time": "2024-07-07T07:08:27.853043Z",
     "start_time": "2024-07-07T07:08:27.847038Z"
    }
   },
   "cell_type": "code",
   "source": [
    "print(\"Train Size:\", df_train.shape)\n",
    "print(\"Test Size:\", df_test.shape)"
   ],
   "id": "d9444e5c999da1f1",
   "execution_count": 55,
   "outputs": []
  },
  {
   "metadata": {
    "ExecuteTime": {
     "end_time": "2024-07-07T07:08:28.288391Z",
     "start_time": "2024-07-07T07:08:28.274438Z"
    }
   },
   "cell_type": "code",
   "source": "df_train.head()",
   "id": "d1dfffa8bde37ac7",
   "execution_count": 56,
   "outputs": []
  },
  {
   "metadata": {
    "ExecuteTime": {
     "end_time": "2024-07-07T07:08:28.846133Z",
     "start_time": "2024-07-07T07:08:28.813221Z"
    }
   },
   "cell_type": "code",
   "source": "df_train.describe()",
   "id": "81fc4453d580ca14",
   "execution_count": 57,
   "outputs": []
  },
  {
   "metadata": {
    "ExecuteTime": {
     "end_time": "2024-07-07T07:08:29.473747Z",
     "start_time": "2024-07-07T07:08:29.464772Z"
    }
   },
   "cell_type": "code",
   "source": "df_train.info()",
   "id": "c77af1eb315e447d",
   "execution_count": 58,
   "outputs": []
  },
  {
   "metadata": {
    "ExecuteTime": {
     "end_time": "2024-07-07T07:08:30.371113Z",
     "start_time": "2024-07-07T07:08:30.367128Z"
    }
   },
   "cell_type": "code",
   "source": [
    "# 缺失值用 平均值代替\n",
    "df_train['Age'] = df_train['Age'].fillna(df_train['Age'].mean())"
   ],
   "id": "a003020c12ee3120",
   "execution_count": 59,
   "outputs": []
  },
  {
   "metadata": {
    "ExecuteTime": {
     "end_time": "2024-07-07T07:08:31.333708Z",
     "start_time": "2024-07-07T07:08:31.328722Z"
    }
   },
   "cell_type": "code",
   "source": [
    "# 对Cabin客舱号进行缺失值处理：因为没办法填充，用Unknown标识出来\n",
    "df_train['Cabin'].fillna('Unknown', inplace=True)"
   ],
   "id": "e57c22304f2afc46",
   "execution_count": 60,
   "outputs": []
  },
  {
   "metadata": {
    "ExecuteTime": {
     "end_time": "2024-07-07T07:08:31.763067Z",
     "start_time": "2024-07-07T07:08:31.756086Z"
    }
   },
   "cell_type": "code",
   "source": [
    "# 对Embarked登船港口进行缺失值处理\n",
    "print(df_train['Embarked'].value_counts())\n",
    "# 只缺了2条,就用众数S填充\n",
    "df_train['Embarked'] = df_train['Embarked'].fillna('S')"
   ],
   "id": "1055fe833e30aca",
   "execution_count": 61,
   "outputs": []
  },
  {
   "metadata": {
    "ExecuteTime": {
     "end_time": "2024-07-07T07:08:32.506068Z",
     "start_time": "2024-07-07T07:08:32.492133Z"
    }
   },
   "cell_type": "code",
   "source": "df_train.head()",
   "id": "16a78e986ff70300",
   "execution_count": 62,
   "outputs": []
  },
  {
   "metadata": {
    "ExecuteTime": {
     "end_time": "2024-07-07T07:08:33.032408Z",
     "start_time": "2024-07-07T07:08:33.024450Z"
    }
   },
   "cell_type": "code",
   "source": "df_train.info()",
   "id": "95bde16f1711fa48",
   "execution_count": 63,
   "outputs": []
  },
  {
   "metadata": {
    "ExecuteTime": {
     "end_time": "2024-07-07T07:18:07.424774Z",
     "start_time": "2024-07-07T07:18:07.404829Z"
    }
   },
   "cell_type": "code",
   "source": [
    "# 删除姓名、ID、船票、客舱等无关信息，axis=0 删除行，=1 删除列\n",
    "data = df_train.drop(['Name', 'PassengerId', 'Ticket', 'Cabin'], axis=1)\n",
    "# 使用get_dummies 对性别与登船港口 进行one-hot编码\n",
    "data_dummy = pd.get_dummies(data[['Sex', 'Embarked']])\n",
    "print(data_dummy.head())\n",
    "\n",
    "# 编码后的数据与原来其他列的数据重新拼接起来\n",
    "data = pd.concat([data, data_dummy], axis=1)\n",
    "# 删除编码前的 性别与登船港 列\n",
    "data.drop(['Sex', 'Embarked'], axis=1, inplace=True)\n",
    "print(data.head())"
   ],
   "id": "65aa01b9d55c96d5",
   "execution_count": 73,
   "outputs": []
  },
  {
   "metadata": {
    "ExecuteTime": {
     "end_time": "2024-07-07T07:19:03.951639Z",
     "start_time": "2024-07-07T07:19:03.944649Z"
    }
   },
   "cell_type": "code",
   "source": [
    "from sklearn.model_selection import train_test_split\n",
    "\n",
    "# x为特征,y为标签\n",
    "x = data.drop('Survived', axis=1)\n",
    "y = data['Survived']\n",
    "\n",
    "# 分割训练集和测试集\n",
    "x_train, x_test, y_train, y_test = train_test_split(x, y, test_size=0.3, random_state=0)"
   ],
   "id": "637ff77c2250c71",
   "execution_count": 74,
   "outputs": []
  },
  {
   "metadata": {
    "ExecuteTime": {
     "end_time": "2024-07-07T07:20:16.188096Z",
     "start_time": "2024-07-07T07:20:16.180119Z"
    }
   },
   "cell_type": "code",
   "source": [
    "from sklearn.linear_model import LogisticRegression\n",
    "\n",
    "model = LogisticRegression(solver='liblinear')\n",
    "model.fit(x_train, y_train)"
   ],
   "id": "7a1ac6fc527f1f94",
   "execution_count": 76,
   "outputs": []
  },
  {
   "metadata": {
    "ExecuteTime": {
     "end_time": "2024-07-07T07:21:19.813111Z",
     "start_time": "2024-07-07T07:21:19.805135Z"
    }
   },
   "cell_type": "code",
   "source": [
    "print(\"训练集acc准确率:\", model.score(x_train, y_train))\n",
    "print(\"测试集acc准确率:\", model.score(x_test, y_test))"
   ],
   "id": "e7992040e5024143",
   "execution_count": 78,
   "outputs": []
  },
  {
   "metadata": {
    "ExecuteTime": {
     "end_time": "2024-07-07T07:27:37.292921Z",
     "start_time": "2024-07-07T07:27:37.286936Z"
    }
   },
   "cell_type": "code",
   "source": [
    "# model.score(x_test, y_test) 等价于 下面2步\n",
    "from sklearn.metrics import accuracy_score\n",
    "y_predict = model.predict(x_test)\n",
    "print(\"测试集acc准确率:\", accuracy_score(y_test, y_predict))"
   ],
   "id": "c023532c5576bfa9",
   "execution_count": 80,
   "outputs": []
  },
  {
   "metadata": {
    "ExecuteTime": {
     "end_time": "2024-07-07T07:33:52.397974Z",
     "start_time": "2024-07-07T07:33:52.359043Z"
    }
   },
   "cell_type": "code",
   "source": [
    "from sklearn.metrics import classification_report\n",
    "# 查看模型的性能指标\n",
    "print(classification_report(y_test, y_predict))"
   ],
   "id": "43d2698b2c0c56bd",
   "execution_count": 81,
   "outputs": []
  },
  {
   "metadata": {},
   "cell_type": "code",
   "execution_count": null,
   "source": "",
   "id": "8b11e3c4c37f1073",
   "outputs": []
  }
 ],
 "metadata": {
  "kernelspec": {
   "display_name": "Python 3",
   "language": "python",
   "name": "python3"
  },
  "language_info": {
   "codemirror_mode": {
    "name": "ipython",
    "version": 2
   },
   "file_extension": ".py",
   "mimetype": "text/x-python",
   "name": "python",
   "nbconvert_exporter": "python",
   "pygments_lexer": "ipython2",
   "version": "2.7.6"
  }
 },
 "nbformat": 4,
 "nbformat_minor": 5
}
